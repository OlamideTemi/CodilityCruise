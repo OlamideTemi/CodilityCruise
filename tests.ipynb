{
 "cells": [
  {
   "cell_type": "code",
   "execution_count": 1,
   "metadata": {},
   "outputs": [],
   "source": [
    "def solution(A, K):\n",
    "    length = len(A)\n",
    "\n",
    "    if length <= 1:\n",
    "        return A\n",
    "\n",
    "    curr_index = 0\n",
    "    val = A[curr_index]\n",
    "\n",
    "    while True:\n",
    "        next = (curr_index + K) % length\n",
    "\n",
    "        temp = A[next]\n",
    "        A[next] = val\n",
    "        val = temp\n",
    "\n",
    "        curr_index = next\n",
    "\n",
    "        if next == 0:\n",
    "            break\n",
    "\n",
    "    return A"
   ]
  },
  {
   "cell_type": "code",
   "execution_count": 2,
   "metadata": {},
   "outputs": [
    {
     "data": {
      "text/plain": [
       "[9, 7, 6, 3, 8]"
      ]
     },
     "execution_count": 2,
     "metadata": {},
     "output_type": "execute_result"
    }
   ],
   "source": [
    "A = [3, 8, 9, 7, 6]\n",
    "K = 3\n",
    "\n",
    "solution(A, K)"
   ]
  },
  {
   "cell_type": "code",
   "execution_count": 8,
   "metadata": {},
   "outputs": [],
   "source": [
    "def solution(A, K):\n",
    "    length = len(A)\n",
    "\n",
    "    if length <= 1:\n",
    "        return A\n",
    "\n",
    "    A2 = A.copy()\n",
    "\n",
    "    for i in range(length):\n",
    "        next = (i + K) % length\n",
    "        A2[next] = A[i]\n",
    "        print(A)\n",
    "        print(A2)\n",
    "        print(next, i)\n",
    "\n",
    "\n",
    "    return A2"
   ]
  },
  {
   "cell_type": "code",
   "execution_count": 9,
   "metadata": {},
   "outputs": [
    {
     "name": "stdout",
     "output_type": "stream",
     "text": [
      "[3, 8, 9, 7, 6]\n",
      "[3, 8, 9, 3, 6]\n",
      "3 0\n",
      "[3, 8, 9, 7, 6]\n",
      "[3, 8, 9, 3, 8]\n",
      "4 1\n",
      "[3, 8, 9, 7, 6]\n",
      "[9, 8, 9, 3, 8]\n",
      "0 2\n",
      "[3, 8, 9, 7, 6]\n",
      "[9, 7, 9, 3, 8]\n",
      "1 3\n",
      "[3, 8, 9, 7, 6]\n",
      "[9, 7, 6, 3, 8]\n",
      "2 4\n"
     ]
    },
    {
     "data": {
      "text/plain": [
       "[9, 7, 6, 3, 8]"
      ]
     },
     "execution_count": 9,
     "metadata": {},
     "output_type": "execute_result"
    }
   ],
   "source": [
    "A = [3, 8, 9, 7, 6]\n",
    "K = 3\n",
    "\n",
    "solution(A, K)"
   ]
  },
  {
   "cell_type": "code",
   "execution_count": null,
   "metadata": {},
   "outputs": [],
   "source": [
    "def solution(A, K):\n",
    "    length = len(A)\n",
    "\n",
    "    if length <= 1:\n",
    "        return A\n",
    "\n",
    "    A2 = [0]*length\n",
    "\n",
    "    for i in range(length):\n",
    "        next = (i + K) % length\n",
    "        A2[next] = A[i]\n",
    "\n",
    "\n",
    "    return A2"
   ]
  },
  {
   "cell_type": "code",
   "execution_count": null,
   "metadata": {},
   "outputs": [],
   "source": []
  }
 ],
 "metadata": {
  "kernelspec": {
   "display_name": "aivenv",
   "language": "python",
   "name": "python3"
  },
  "language_info": {
   "codemirror_mode": {
    "name": "ipython",
    "version": 3
   },
   "file_extension": ".py",
   "mimetype": "text/x-python",
   "name": "python",
   "nbconvert_exporter": "python",
   "pygments_lexer": "ipython3",
   "version": "3.9.7"
  }
 },
 "nbformat": 4,
 "nbformat_minor": 2
}
